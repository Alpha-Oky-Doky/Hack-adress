{
  "nbformat": 4,
  "nbformat_minor": 0,
  "metadata": {
    "colab": {
      "provenance": []
    },
    "kernelspec": {
      "name": "python3",
      "display_name": "Python 3"
    },
    "language_info": {
      "name": "python"
    }
  },
  "cells": [
    {
      "cell_type": "markdown",
      "source": [
        "Equipe n°8\n",
        "hackathon\n",
        "Souheil DABBABI\n",
        "\n"
      ],
      "metadata": {
        "id": "5oaV_CowYN9o"
      }
    },
    {
      "cell_type": "code",
      "source": [
        "from geopy.geocoders import Nominatim\n",
        "\n",
        "def adresse_to_details(adresse):\n",
        "    # Créer un géocodeur Nominatim\n",
        "    geolocator = Nominatim(user_agent=\"conversion_adresse\")\n",
        "\n",
        "    # Utiliser le géocodeur pour trouver les coordonnées de l'adresse\n",
        "    location = geolocator.geocode(adresse)\n",
        "\n",
        "    # Vérifier si une adresse valide est trouvée\n",
        "    if location:\n",
        "        # Extraire le code postal\n",
        "        code_postal = adresse.split(',')[-2].strip()\n",
        "\n",
        "        # Extraire le nom de la voie\n",
        "        nom_voie = adresse.split(',')[1].strip()\n",
        "\n",
        "        # Extraire le numéro de voie\n",
        "        num_voie = adresse.split(',')[0].strip()\n",
        "\n",
        "        # Extraire le nom de la ville\n",
        "        ville = adresse.split(',')[-1].strip()\n",
        "\n",
        "        # Extraire les coordonnées\n",
        "        latitude = location.latitude\n",
        "        longitude = location.longitude\n",
        "\n",
        "        return code_postal, nom_voie, num_voie, ville, latitude, longitude\n",
        "    else:\n",
        "        print(\"Adresse non valide ou non trouvable:\", adresse)\n",
        "        return None, None, None, None, None, None\n",
        "\n",
        "# Adresse à convertir en détails\n",
        "adresse = \"12, rue du Faubntoine, 75012 Paris\"\n",
        "\n",
        "# Appeler la fonction pour obtenir les détails\n",
        "code_postal, nom_voie, num_voie, ville, latitude, longitude = adresse_to_details(adresse)\n",
        "\n",
        "# Afficher les détails si disponibles\n",
        "if code_postal and nom_voie and num_voie and ville and latitude and longitude:\n",
        "    print(\"Ville:\", ville)\n",
        "    print(\"Code postal:\", code_postal)\n",
        "    print(\"Nom de la voie:\", nom_voie)\n",
        "    print(\"Numéro de voie:\", num_voie)\n",
        "    print(\"Latitude:\", latitude)\n",
        "    print(\"Longitude:\", longitude)\n"
      ],
      "metadata": {
        "colab": {
          "base_uri": "https://localhost:8080/"
        },
        "id": "5x9EDYVG1I5e",
        "outputId": "e6bcbe2b-1cb2-4b8d-b45f-c04c9ecb836c"
      },
      "execution_count": null,
      "outputs": [
        {
          "output_type": "stream",
          "name": "stdout",
          "text": [
            "Adresse non valide ou non trouvable: 12, rue du Faubntoine, 75012 Paris\n"
          ]
        }
      ]
    }
  ]
}